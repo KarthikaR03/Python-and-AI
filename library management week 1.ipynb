{
 "cells": [
  {
   "cell_type": "code",
   "execution_count": null,
   "id": "302ea47b",
   "metadata": {},
   "outputs": [],
   "source": []
  },
  {
   "cell_type": "code",
   "execution_count": 26,
   "id": "698fcbbe",
   "metadata": {},
   "outputs": [
    {
     "name": "stdout",
     "output_type": "stream",
     "text": [
      "Search options:\n",
      "1. Search by book name\n",
      "2. Search by author\n",
      "3. Search by ISBN\n",
      "Enter the number of your choice: 1\n",
      "Enter the book name to search: 1984\n",
      "Books with '1984' in the name: [Book(name='1984', authors=['George Orwell'], isbn='9780451524935')]\n"
     ]
    }
   ],
   "source": [
    "class Book():\n",
    "    def __init__(self, bookname, authors, isbn):\n",
    "        self.bookname = bookname\n",
    "        self.authors = authors\n",
    "        self.isbn = isbn\n",
    "        if len(isbn)!=13 :\n",
    "             print(\"enter a isbn number in 13 digits\")    \n",
    "\n",
    "    def __repr__(self):\n",
    "        return (f\"Book(name='{self.bookname}', authors={self.authors}, isbn='{self.isbn}')\")\n",
    "\n",
    "class BookManager():\n",
    "    def __init__(self):\n",
    "        self.books = []\n",
    "\n",
    "    def add_book(self, bookname, authors, isbn):\n",
    "        book = Book(bookname, authors, isbn)\n",
    "        self.books.append(book)\n",
    "\n",
    "    def search_by_bookname(self, search_name):\n",
    "        return [book for book in self.books if search_name.lower() in book.bookname.lower()]\n",
    "\n",
    "    def search_by_author(self, author_name):\n",
    "        return [book for book in self.books if author_name.lower() in [author.lower() for author in book.authors]]\n",
    "\n",
    "    def search_by_isbn(self, search_isbn):\n",
    "        return [book for book in self.books if search_isbn == book.isbn]\n",
    "\n",
    "book_manager = BookManager()\n",
    "book_manager.add_book(\"The Alchemist\", [\"Paulo Coelho\"], \"9780061122415\")\n",
    "book_manager.add_book(\"Think Like a Monk\", [\"Jay Shetty\"], \"9781982134488\")\n",
    "book_manager.add_book(\"1984\", [\"George Orwell\"], \"9780451524935\")\n",
    "print(\"Search options:\")\n",
    "print(\"1. Search by book name\")\n",
    "print(\"2. Search by author\")\n",
    "print(\"3. Search by ISBN\")\n",
    "    \n",
    "choice = int(input(\"Enter the number of your choice: \"))\n",
    "\n",
    "if choice == 1:\n",
    "    search_name = input(\"Enter the book name to search: \")\n",
    "    books_by_name = book_manager.search_by_bookname(search_name)\n",
    "    print(f\"Books with '{search_name}' in the name: {books_by_name}\")\n",
    "\n",
    "elif choice == 2:\n",
    "    author_name = input(\"Enter the author name to search: \")\n",
    "    books_by_author = book_manager.search_by_author(author_name)\n",
    "    print(\"Books by {author_name}: {books_by_author}\")\n",
    "\n",
    "elif choice == 3:\n",
    "    search_isbn = input(\"Enter the ISBN to search: \")\n",
    "    books_by_isbn = book_manager.search_by_isbn(search_isbn)\n",
    "    print(\"Books with ISBN {search_isbn}: {books_by_isbn}\")\n",
    "\n",
    "else:\n",
    "    print(\"Invalid choice!\")\n"
   ]
  },
  {
   "cell_type": "code",
   "execution_count": null,
   "id": "fd970a1b",
   "metadata": {},
   "outputs": [],
   "source": []
  }
 ],
 "metadata": {
  "kernelspec": {
   "display_name": "ML-KERNEL",
   "language": "python",
   "name": "ml-kernel"
  },
  "language_info": {
   "codemirror_mode": {
    "name": "ipython",
    "version": 3
   },
   "file_extension": ".py",
   "mimetype": "text/x-python",
   "name": "python",
   "nbconvert_exporter": "python",
   "pygments_lexer": "ipython3",
   "version": "3.11.1"
  }
 },
 "nbformat": 4,
 "nbformat_minor": 5
}
